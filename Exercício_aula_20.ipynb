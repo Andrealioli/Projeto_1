{
 "cells": [
  {
   "cell_type": "markdown",
   "metadata": {},
   "source": [
    "Aula 20: Exercício - dados dois rasters de 1 banda cada (1 mapa temático, 1 mapa de referência), calcule a taxa de acerto da classicação do mapa temático e salve um arquivo GeoTIFF contendo um mapa de concordância entre as imagens"
   ]
  },
  {
   "cell_type": "code",
   "execution_count": 4,
   "metadata": {},
   "outputs": [
    {
     "data": {
      "image/png": "[encoded data removed]",
      "text/plain": [
       "<Figure size 1080x360 with 3 Axes>"
      ]
     },
     "metadata": {},
     "output_type": "display_data"
    },
    {
     "ename": "RuntimeError",
     "evalue": "Attempt to create new tiff file `imagens/comparacao.tif' failed: No such file or directory",
     "output_type": "error",
     "traceback": [
      "\u001b[1;31m---------------------------------------------------------------------------\u001b[0m",
      "\u001b[1;31mRuntimeError\u001b[0m                              Traceback (most recent call last)",
      "\u001b[1;32m<ipython-input-4-2ef022ec443e>\u001b[0m in \u001b[0;36m<module>\u001b[1;34m()\u001b[0m\n\u001b[0;32m     88\u001b[0m     \u001b[0mdataset_output\u001b[0m \u001b[1;33m=\u001b[0m \u001b[1;32mNone\u001b[0m\u001b[1;33m\u001b[0m\u001b[0m\n\u001b[0;32m     89\u001b[0m \u001b[0mnome_do_arquivo\u001b[0m \u001b[1;33m=\u001b[0m \u001b[1;34m\"imagens/comparacao.tif\"\u001b[0m\u001b[1;33m\u001b[0m\u001b[0m\n\u001b[1;32m---> 90\u001b[1;33m \u001b[0msalvar_banda\u001b[0m\u001b[1;33m(\u001b[0m\u001b[0mnumpy_comparacao\u001b[0m\u001b[1;33m,\u001b[0m \u001b[0mnome_do_arquivo\u001b[0m\u001b[1;33m,\u001b[0m \u001b[0mdataset_referencia\u001b[0m\u001b[1;33m)\u001b[0m\u001b[1;33m\u001b[0m\u001b[0m\n\u001b[0m\u001b[0;32m     91\u001b[0m \u001b[1;33m\u001b[0m\u001b[0m\n\u001b[0;32m     92\u001b[0m \u001b[1;31m# fechar imagens\u001b[0m\u001b[1;33m\u001b[0m\u001b[1;33m\u001b[0m\u001b[0m\n",
      "\u001b[1;32m<ipython-input-4-2ef022ec443e>\u001b[0m in \u001b[0;36msalvar_banda\u001b[1;34m(matriz_de_pixels, nome_do_arquivo, dataset_de_referencia)\u001b[0m\n\u001b[0;32m     76\u001b[0m     \u001b[0mdata_type\u001b[0m \u001b[1;33m=\u001b[0m \u001b[0mdataset_de_referencia\u001b[0m\u001b[1;33m.\u001b[0m\u001b[0mGetRasterBand\u001b[0m\u001b[1;33m(\u001b[0m\u001b[1;36m1\u001b[0m\u001b[1;33m)\u001b[0m\u001b[1;33m.\u001b[0m\u001b[0mDataType\u001b[0m\u001b[1;33m\u001b[0m\u001b[0m\n\u001b[0;32m     77\u001b[0m     \u001b[1;31m# criar novo dataset\u001b[0m\u001b[1;33m\u001b[0m\u001b[1;33m\u001b[0m\u001b[0m\n\u001b[1;32m---> 78\u001b[1;33m     \u001b[0mdataset_output\u001b[0m \u001b[1;33m=\u001b[0m \u001b[0mdriver\u001b[0m\u001b[1;33m.\u001b[0m\u001b[0mCreate\u001b[0m\u001b[1;33m(\u001b[0m\u001b[0mnome_do_arquivo\u001b[0m\u001b[1;33m,\u001b[0m \u001b[0mcolunas\u001b[0m\u001b[1;33m,\u001b[0m \u001b[0mlinhas\u001b[0m\u001b[1;33m,\u001b[0m \u001b[0mbandas\u001b[0m\u001b[1;33m,\u001b[0m \u001b[0mdata_type\u001b[0m\u001b[1;33m)\u001b[0m\u001b[1;33m\u001b[0m\u001b[0m\n\u001b[0m\u001b[0;32m     79\u001b[0m     \u001b[1;31m# copiar informações espaciais da banda já existente\u001b[0m\u001b[1;33m\u001b[0m\u001b[1;33m\u001b[0m\u001b[0m\n\u001b[0;32m     80\u001b[0m     \u001b[0mdataset_output\u001b[0m\u001b[1;33m.\u001b[0m\u001b[0mSetGeoTransform\u001b[0m\u001b[1;33m(\u001b[0m\u001b[0mdataset_de_referencia\u001b[0m\u001b[1;33m.\u001b[0m\u001b[0mGetGeoTransform\u001b[0m\u001b[1;33m(\u001b[0m\u001b[1;33m)\u001b[0m\u001b[1;33m)\u001b[0m\u001b[1;33m\u001b[0m\u001b[0m\n",
      "\u001b[1;32m~\\Anaconda3\\envs\\geospatial\\lib\\site-packages\\osgeo\\gdal.py\u001b[0m in \u001b[0;36mCreate\u001b[1;34m(self, *args, **kwargs)\u001b[0m\n\u001b[0;32m   1531\u001b[0m     \u001b[1;32mdef\u001b[0m \u001b[0mCreate\u001b[0m\u001b[1;33m(\u001b[0m\u001b[0mself\u001b[0m\u001b[1;33m,\u001b[0m \u001b[1;33m*\u001b[0m\u001b[0margs\u001b[0m\u001b[1;33m,\u001b[0m \u001b[1;33m**\u001b[0m\u001b[0mkwargs\u001b[0m\u001b[1;33m)\u001b[0m\u001b[1;33m:\u001b[0m\u001b[1;33m\u001b[0m\u001b[0m\n\u001b[0;32m   1532\u001b[0m         \u001b[1;34m\"\"\"Create(Driver self, char const * utf8_path, int xsize, int ysize, int bands=1, GDALDataType eType, char ** options=None) -> Dataset\"\"\"\u001b[0m\u001b[1;33m\u001b[0m\u001b[0m\n\u001b[1;32m-> 1533\u001b[1;33m         \u001b[1;32mreturn\u001b[0m \u001b[0m_gdal\u001b[0m\u001b[1;33m.\u001b[0m\u001b[0mDriver_Create\u001b[0m\u001b[1;33m(\u001b[0m\u001b[0mself\u001b[0m\u001b[1;33m,\u001b[0m \u001b[1;33m*\u001b[0m\u001b[0margs\u001b[0m\u001b[1;33m,\u001b[0m \u001b[1;33m**\u001b[0m\u001b[0mkwargs\u001b[0m\u001b[1;33m)\u001b[0m\u001b[1;33m\u001b[0m\u001b[0m\n\u001b[0m\u001b[0;32m   1534\u001b[0m \u001b[1;33m\u001b[0m\u001b[0m\n\u001b[0;32m   1535\u001b[0m \u001b[1;33m\u001b[0m\u001b[0m\n",
      "\u001b[1;31mRuntimeError\u001b[0m: Attempt to create new tiff file `imagens/comparacao.tif' failed: No such file or directory"
     ]
    }
   ],
   "source": [
    "# Importação das bibliotecas necessárias\n",
    "from osgeo import gdal\n",
    "import numpy as np\n",
    "from matplotlib import pyplot as plt\n",
    "import os\n",
    "\n",
    "# Importação das constantes\n",
    "from gdalconst import *\n",
    "\n",
    "# informar o uso de exceções\n",
    "gdal.UseExceptions()\n",
    "\n",
    "# biblioteca de funções relacionadas ao sistema\n",
    "# sys: System-specific parameters and functions\n",
    "import sys\n",
    "#definindo o diretorio de trabalho\n",
    "os.chdir(\"C:/Users/andre/Documents/lista5/aula20/\")\n",
    "# abrertura das 2 imagens com 1 banda cada\n",
    "filename_classificacao = \"classificacao_area_urbana.tif\" \n",
    "filename_referencia = \"referencia_area_urbana.tif\"\n",
    "try:\n",
    "    dataset_classificacao = gdal.Open(filename_classificacao, GA_ReadOnly) \n",
    "    dataset_referencia = gdal.Open(filename_referencia, GA_ReadOnly) \n",
    "except:\n",
    "    print (\"Erro na abertura de algum arquivo!\")\n",
    "    \n",
    "# verificação da compatibilidade de metadados\n",
    "if (dataset_referencia.GetProjectionRef() != dataset_classificacao.GetProjectionRef()):\n",
    "    print(\"Sistemas de referência diferentes\")\n",
    "elif (dataset_referencia.GetGeoTransform() != dataset_classificacao.GetGeoTransform()):\n",
    "    print(\"Metadados espaciais diferentes\")\n",
    "else:\n",
    "    # obtenção de metadados\n",
    "    linhas = dataset_referencia.RasterYSize\n",
    "    colunas = dataset_referencia.RasterXSize\n",
    "\n",
    "    # abertura da banda de cada imagem\n",
    "    classificacao = dataset_classificacao.GetRasterBand(1)\n",
    "    referencia = dataset_referencia.GetRasterBand(1)\n",
    "\n",
    "    # geraçao de matrizes de pixels\n",
    "    numpy_referencia = referencia.ReadAsArray()\n",
    "    numpy_classificacao = classificacao.ReadAsArray()\n",
    "\n",
    "    # gerção de matriz de comparação\n",
    "    numpy_comparacao = (numpy_referencia == numpy_classificacao)\n",
    "    acertos = 100 * numpy_comparacao.sum() / (linhas * colunas)\n",
    "\n",
    "    # plotagem de resultados\n",
    "    plt.figure(figsize=(15, 5))\n",
    "\n",
    "    plt.subplot(131)\n",
    "    plt.imshow(numpy_referencia)\n",
    "    plt.title('Imagem de referência')\n",
    "\n",
    "    plt.subplot(132)\n",
    "    plt.imshow(numpy_classificacao)\n",
    "    plt.title('Imagem classificada')\n",
    "\n",
    "    plt.subplot(133)\n",
    "    plt.imshow(numpy_comparacao)\n",
    "    plt.title('Imagem de comparação, ' + str(acertos) + '% de acurácia')\n",
    "\n",
    "    plt.show()\n",
    "\n",
    "# salvar imagem de concordância\n",
    "\n",
    "def salvar_banda(matriz_de_pixels, nome_do_arquivo, dataset_de_referencia):\n",
    "    # obter metadados\n",
    "    linhas = dataset_de_referencia.RasterYSize\n",
    "    colunas = dataset_de_referencia.RasterXSize\n",
    "    bandas = 1\n",
    "    # definir driver\n",
    "    driver = gdal.GetDriverByName('GTiff')\n",
    "    # copiar tipo de dados da banda já existente\n",
    "    data_type = dataset_de_referencia.GetRasterBand(1).DataType\n",
    "    # criar novo dataset\n",
    "    dataset_output = driver.Create(nome_do_arquivo, colunas, linhas, bandas, data_type)\n",
    "    # copiar informações espaciais da banda já existente\n",
    "    dataset_output.SetGeoTransform(dataset_de_referencia.GetGeoTransform())\n",
    "    # copiar informações de projeção\n",
    "    dataset_output.SetProjection(dataset_de_referencia.GetProjectionRef())\n",
    "    # escrever dados da matriz NumPy na banda\n",
    "    dataset_output.GetRasterBand(1).WriteArray(matriz_de_pixels)\n",
    "    # salvar valores\n",
    "    dataset_output.FlushCache()\n",
    "    # fechar dataset\n",
    "    dataset_output = None\n",
    "nome_do_arquivo = \"./comparacao.tif\"\n",
    "salvar_banda(numpy_comparacao, nome_do_arquivo, dataset_referencia)\n",
    "\n",
    "# fechar imagens\n",
    "dataset_referencia = None\n",
    "dataset_classificacao = None"
   ]
  },
  {
   "cell_type": "code",
   "execution_count": null,
   "metadata": {},
   "outputs": [],
   "source": []
  }
 ],
 "metadata": {
  "kernelspec": {
   "display_name": "Python (geospatial)",
   "language": "python",
   "name": "geospatial"
  },
  "language_info": {
   "codemirror_mode": {
    "name": "ipython",
    "version": 3
   },
   "file_extension": ".py",
   "mimetype": "text/x-python",
   "name": "python",
   "nbconvert_exporter": "python",
   "pygments_lexer": "ipython3",
   "version": "3.6.5"
  }
 },
 "nbformat": 4,
 "nbformat_minor": 2
}
